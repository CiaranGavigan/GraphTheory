{
 "cells": [
  {
   "cell_type": "markdown",
   "id": "777162e7",
   "metadata": {},
   "source": [
    "# Heap Sort\n"
   ]
  },
  {
   "cell_type": "markdown",
   "id": "3103ebe0",
   "metadata": {},
   "source": [
    "Heap sort is a comparison-based sorting technique based on Binary Heap data structure. It is similar to selection sort where we first find the minimum element and place the minimum element at the beginning. We repeat the same process for the remaining elements.\n",
    "\n",
    "\n",
    "\n",
    "What is a Binary Heap \n",
    "first we will define a Complete Binary Tree. A Complete Binary Tree is  a tree in which every level,except possibly the last is completly filled, and all nodes are as far left as possible\n",
    "\n",
    "A Binary Heap is a Complete Binary Tree where items are stored in a special order such that the value in a parent node is greater(or smaller) than the values in its two children nodes. The former is called max heap and the latter is called min heap. The heap can be represented by a binary tree or array.\n",
    "\n",
    "why use array based representation for a Binary Heap?\n",
    "Since a Binary Heap is a Complete Binary Tree, it can be easily represented as an array and the array based representation is space efficient. If the parent node is stored at index I, the left child can be calculated by 2 * I + 1 and the right child by 2 * I + 2 (assuming the indexing starts at 0).\n",
    "\n",
    "\n",
    "How to “heapify” a tree?\n",
    "\n",
    "The process of reshaping a binary tree into a Heap data structure is known as ‘heapify’. A binary tree is a tree data structure that has two child nodes at max. If a node’s children nodes are ‘heapified’, then only ‘heapify’ process can be applied over that node. A heap should always be a complete binary tree. \n",
    "\n",
    "Starting from a complete binary tree, we can modify it to become a Max-Heap by running a function called ‘heapify’ on all the non-leaf elements of the heap. i.e. ‘heapify’ uses recursion."
   ]
  },
  {
   "cell_type": "code",
   "execution_count": 15,
   "id": "26dc1727",
   "metadata": {},
   "outputs": [
    {
     "name": "stdout",
     "output_type": "stream",
     "text": [
      "Sorted array is\n",
      "5 6 7 11 12 13 "
     ]
    }
   ],
   "source": [
    "def heapify(arr, n, i):\n",
    "    largest = i  # Initialize largest as root\n",
    "    l = 2 * i + 1     # left = 2*i + 1\n",
    "    r = 2 * i + 2     # right = 2*i + 2\n",
    " \n",
    "    # See if left child of root exists and is\n",
    "    # greater than root\n",
    "    if l < n and arr[largest] < arr[l]:\n",
    "        largest = l\n",
    " \n",
    "    # See if right child of root exists and is\n",
    "    # greater than root\n",
    "    if r < n and arr[largest] < arr[r]:\n",
    "        largest = r\n",
    " \n",
    "    # Change root, if needed\n",
    "    if largest != i:\n",
    "        arr[i], arr[largest] = arr[largest], arr[i]  # swap\n",
    " \n",
    "        # Heapify the root.\n",
    "        heapify(arr, n, largest)\n",
    " \n",
    "# The main function to sort an array of given size\n",
    " \n",
    " \n",
    "def heapSort(arr):\n",
    "    n = len(arr)\n",
    " \n",
    "    # Build a maxheap.\n",
    "    for i in range(n//2 - 1, -1, -1):\n",
    "        heapify(arr, n, i)\n",
    " \n",
    "    # One by one extract elements\n",
    "    for i in range(n-1, 0, -1):\n",
    "        arr[i], arr[0] = arr[0], arr[i]  # swap\n",
    "        heapify(arr, i, 0)\n",
    " \n",
    " \n",
    "# Driver code\n",
    "arr = [12, 11, 13, 5, 6, 7]\n",
    "heapSort(arr)\n",
    "n = len(arr)\n",
    "print(\"Sorted array is\")\n",
    "for i in range(n):\n",
    "    print(\"%d\" % arr[i],end=\" \")\n"
   ]
  },
  {
   "cell_type": "markdown",
   "id": "de40a1b4",
   "metadata": {},
   "source": [
    "## Advantages of Heap Sort\n",
    "\n",
    "Efficiency –  The time required to perform Heap sort increases logarithmically while other algorithms may grow exponentially slower as the number of items to sort increases. This sorting algorithm is very efficient.\n",
    "\n",
    "Memory Usage – Memory usage is minimal because apart from what is necessary to hold the initial list of items to be sorted, it needs no additional memory space to work\n",
    "\n",
    "Simplicity –  It is simpler to understand than other equally efficient sorting algorithms because it does not use advanced computer science concepts such as recursion\n",
    "\n",
    "## Disadvantages of Heap Sort\n",
    "\n",
    "Instability – A stable sort maintains the relative order of items that have the same key. i.e the way they are present in initial array. Heapsort is unstable sort. It might rearrange the relative order.\n",
    "\n",
    "Expensive – In real-world implementation, there are constant factors that the theoretical analysis doesn't take into account and can be expensive to run as it can take longer than other methods.\n",
    "\n",
    "Huge DataSets – Heap sort is not very efficient at working through very large an complex data.\n",
    "\n",
    "\n",
    "\n",
    "## Computational complexity of Heap Sort\n",
    "\n",
    "Heap sort has a running time of O(nlogn).\n",
    "\n",
    "Building the max-heap from the unsorted list requires O(n) calls to the max_heapify function, each of which takes O(logn) time. thus the running time of build_heap is O(nlogn)\n",
    "\n",
    "Heapsort has a running time of O(nlogn)since the call to build_heap takes O(n \\log n)O(nlogn) time, and each of the O(n)O(n) calls to max_heapify takes O(\\log n)O(logn) time\n",
    "\n",
    "Heapsort has an average case running time of O(nlogn) like mergesor, but heapsort uses O(1) auxillary space while mergesort takes up O(n) auxillary space, so if memory concerns are an issue, heapsort might be a good, fast choice for a short algorithm. Quicksort has an average-case running time of O(nlogn) but has notoriously better constant factors that make quicksort faster than O(nlogn) time sorting algorithms. However, quicksort has a worst-case running time of O(n²) \n",
    "and a worst-case space complexity of 0(logn), so if it is very important to have a fast worst-case running time and efficient space usage, heapsort is the best option.\n",
    "    \n"
   ]
  },
  {
   "cell_type": "markdown",
   "id": "e9a22c7c",
   "metadata": {},
   "source": [
    "## How Graph Theory is used in Heap Sorts \n",
    "\n",
    "Graph theory is the study of graphs and is used in computer science for a number of different uses such as networks of communications, data orginization, computational devices, the flow of computation ect The development of algorithms to handle graphs is therefore of major interest in computer science The transformation of graphs is often formalized and represented by graph rewrite systems. Complementary to graph transformation systems focusing on rule-based in-memory manipulation of graphs are graph databases geared towards transaction-safe, persistent storing and querying of graph-structured data\n",
    "\n",
    "Heap Sort is a Graph itself as it is a Complete Binary Tree it uses graphs to show the the relationship of nodes in the tree between parent and child nodes ect.\n",
    "\n"
   ]
  },
  {
   "cell_type": "code",
   "execution_count": null,
   "id": "153fbd92",
   "metadata": {},
   "outputs": [],
   "source": []
  },
  {
   "cell_type": "code",
   "execution_count": null,
   "id": "107f1001",
   "metadata": {},
   "outputs": [],
   "source": []
  },
  {
   "cell_type": "code",
   "execution_count": null,
   "id": "6dca2caa",
   "metadata": {},
   "outputs": [],
   "source": []
  },
  {
   "cell_type": "code",
   "execution_count": null,
   "id": "fbc2729b",
   "metadata": {},
   "outputs": [],
   "source": []
  },
  {
   "cell_type": "code",
   "execution_count": null,
   "id": "f0045008",
   "metadata": {},
   "outputs": [],
   "source": []
  },
  {
   "cell_type": "code",
   "execution_count": null,
   "id": "31e70af6",
   "metadata": {},
   "outputs": [],
   "source": []
  },
  {
   "cell_type": "code",
   "execution_count": null,
   "id": "bc5b2f52",
   "metadata": {},
   "outputs": [],
   "source": []
  },
  {
   "cell_type": "code",
   "execution_count": null,
   "id": "38a466b8",
   "metadata": {},
   "outputs": [],
   "source": []
  },
  {
   "cell_type": "code",
   "execution_count": null,
   "id": "2b5c0f92",
   "metadata": {},
   "outputs": [],
   "source": []
  },
  {
   "cell_type": "code",
   "execution_count": null,
   "id": "e3f2fbc2",
   "metadata": {},
   "outputs": [],
   "source": []
  },
  {
   "cell_type": "code",
   "execution_count": null,
   "id": "9881a024",
   "metadata": {},
   "outputs": [],
   "source": []
  },
  {
   "cell_type": "code",
   "execution_count": null,
   "id": "104e1ffb",
   "metadata": {},
   "outputs": [],
   "source": []
  },
  {
   "cell_type": "code",
   "execution_count": null,
   "id": "87c704e6",
   "metadata": {},
   "outputs": [],
   "source": []
  },
  {
   "cell_type": "code",
   "execution_count": null,
   "id": "5123b48e",
   "metadata": {},
   "outputs": [],
   "source": []
  },
  {
   "cell_type": "code",
   "execution_count": null,
   "id": "22c3f0d6",
   "metadata": {},
   "outputs": [],
   "source": []
  },
  {
   "cell_type": "code",
   "execution_count": null,
   "id": "35ea32ea",
   "metadata": {},
   "outputs": [],
   "source": []
  },
  {
   "cell_type": "code",
   "execution_count": null,
   "id": "0a538bb2",
   "metadata": {},
   "outputs": [],
   "source": []
  },
  {
   "cell_type": "code",
   "execution_count": null,
   "id": "fadd8b64",
   "metadata": {},
   "outputs": [],
   "source": []
  },
  {
   "cell_type": "code",
   "execution_count": null,
   "id": "bbafaf5b",
   "metadata": {},
   "outputs": [],
   "source": []
  }
 ],
 "metadata": {
  "kernelspec": {
   "display_name": "Python 3 (ipykernel)",
   "language": "python",
   "name": "python3"
  },
  "language_info": {
   "codemirror_mode": {
    "name": "ipython",
    "version": 3
   },
   "file_extension": ".py",
   "mimetype": "text/x-python",
   "name": "python",
   "nbconvert_exporter": "python",
   "pygments_lexer": "ipython3",
   "version": "3.9.7"
  }
 },
 "nbformat": 4,
 "nbformat_minor": 5
}
